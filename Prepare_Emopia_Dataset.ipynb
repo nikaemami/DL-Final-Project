{
 "cells": [
  {
   "cell_type": "code",
   "execution_count": 1,
   "id": "8f93e42f-6273-4541-81cb-9dcb317a0e2e",
   "metadata": {},
   "outputs": [],
   "source": [
    "# import libraries\n",
    "import sys\n",
    "sys.path.append('/scratch/ne2213/projects/tmp_packages')\n",
    "sys.path.append('/scratch/ne2213/projects/tmp_packages/')\n",
    "import torch\n",
    "import numpy as np\n",
    "import muspy\n",
    "from sklearn.model_selection import train_test_split \n",
    "\n",
    "import warnings\n",
    "warnings.filterwarnings(\"ignore\")\n",
    "\n",
    "device = torch.device('cuda' if torch.cuda.is_available() else 'cpu')"
   ]
  },
  {
   "cell_type": "code",
   "execution_count": 2,
   "id": "a810a54f-530a-4a00-8ae2-1b96ab6cbf10",
   "metadata": {},
   "outputs": [],
   "source": [
    "# dataset is already downloaded (True if not downloaded)\n",
    "emopia = muspy.EMOPIADataset(\"emopia/\", download_and_extract=False)"
   ]
  },
  {
   "cell_type": "markdown",
   "id": "dd8052db-78f2-4e7c-a668-ba19dea0430b",
   "metadata": {},
   "source": [
    "***We preprocess the dataset of music tracks: It iterates through each track, extracting emotion labels and adjusting temporal resolution. Segments of fixed length are then extracted from each track, retaining only the top 4 notes in each time-step. These segments, along with their corresponding emotion labels and previous segments, are stored for further analysis or model training.***\n",
    "\n",
    "\n",
    "***The resulting dataset consists of non-overlapping N-bar segments, each tailored to the desired temporal resolution and containing key musical information for the intended task***"
   ]
  },
  {
   "cell_type": "code",
   "execution_count": 3,
   "id": "6c573471-f41d-4f0c-95d8-947ef7da2919",
   "metadata": {},
   "outputs": [],
   "source": [
    "# extract non-overlapping N-bar segments from all songs in dataset\n",
    "\n",
    "tgt_res = 16  #time-steps per bar\n",
    "bars = 4  # desired number of bars for input/output generation\n",
    "sect = tgt_res*bars\n",
    "\n",
    "# storing song segments/melodies\n",
    "all_segments = []\n",
    "prev_segments = []\n",
    "labels = []\n",
    "\n",
    "for track in emopia:\n",
    "    # extract emotion label\n",
    "    label = track.annotations[0].annotation['emo_class']\n",
    "    label = int(label)\n",
    "    one_hot = np.zeros(4)  \n",
    "    one_hot[label - 1] = 1  # assign label (0,1,2,3)\n",
    "\n",
    "    # adjust track to target temporal resolution\n",
    "    track.adjust_resolution(target=tgt_res, factor=None, rounding='round')\n",
    "    track = muspy.to_representation(track,'piano-roll')\n",
    "\n",
    "    # count number of sections per track to extract\n",
    "    num_segments = track.shape[0] // sect  \n",
    "\n",
    "    # loop through all tracks\n",
    "    for i in range(num_segments):\n",
    "        segment = track[i * sect:(i + 1) * sect]  # Extract the segment\n",
    "        transformed_data = np.zeros_like(segment)\n",
    "        # only keep top 4 notes\n",
    "        for j in range(segment.shape[0]):\n",
    "            # Get the indices of the top 4 values in the row\n",
    "            top_4_indices = np.argsort(segment[j])[-4:]\n",
    "            # Set the top 4 entries to their respective values\n",
    "            transformed_data[j, top_4_indices] = segment[j, top_4_indices]\n",
    "        all_segments.append(transformed_data)\n",
    "        labels.append(one_hot)\n",
    "        if i == 0:\n",
    "            prev_segments.append(track[-sect:])\n",
    "        else:\n",
    "            prev_segments.append(track[(i - 1) * sect:i * sect])"
   ]
  },
  {
   "cell_type": "code",
   "execution_count": 4,
   "id": "1f3d56ed-98e9-4919-baca-8a8cb1f6f6b4",
   "metadata": {},
   "outputs": [],
   "source": [
    "# vertically stack all sections\n",
    "labels_array = np.stack(labels)\n",
    "all_segments_array = np.stack(all_segments).reshape(-1, 1, sect, 128)\n",
    "prev_segments_array = np.stack(prev_segments).reshape(-1, 1, sect, 128)\n",
    "\n",
    "# normalize\n",
    "all_segments_array = all_segments_array/all_segments_array.max()\n",
    "prev_segments_array = prev_segments_array/prev_segments_array.max()"
   ]
  },
  {
   "cell_type": "code",
   "execution_count": 5,
   "id": "f54158d7-eed3-4dde-8830-fee26e487ca0",
   "metadata": {},
   "outputs": [],
   "source": [
    "# split into train and test sets\n",
    "rnd_st = 42\n",
    "test_size = 0.2\n",
    "X_tr, X_val, X_prev_tr, X_prev_val, y_tr, y_val = train_test_split(\n",
    "    all_segments_array, prev_segments_array, labels_array, test_size=test_size, random_state=rnd_st)"
   ]
  },
  {
   "cell_type": "code",
   "execution_count": 6,
   "id": "f038006e-5e31-4704-bbe5-d2f4feb34cb0",
   "metadata": {},
   "outputs": [
    {
     "name": "stdout",
     "output_type": "stream",
     "text": [
      "(16844, 1, 64, 128)\n",
      "(4212, 1, 64, 128)\n"
     ]
    }
   ],
   "source": [
    "print(X_tr.shape)\n",
    "print(X_val.shape)"
   ]
  },
  {
   "cell_type": "code",
   "execution_count": 7,
   "id": "38d65d00-7161-44cf-9259-1a437cca3a7b",
   "metadata": {},
   "outputs": [],
   "source": [
    "# save the data to directory\n",
    "np.save('/scratch/ne2213/projects/DL/DL-FinalProject/GAN/X_tr.npy',X_tr)\n",
    "np.save('/scratch/ne2213/projects/DL/DL-FinalProject/GAN/X_val.npy',X_val)\n",
    "np.save('/scratch/ne2213/projects/DL/DL-FinalProject/GAN/X_prev_tr.npy',X_prev_tr)\n",
    "np.save('/scratch/ne2213/projects/DL/DL-FinalProject/GAN/X_prev_val.npy',X_prev_val)\n",
    "np.save('/scratch/ne2213/projects/DL/DL-FinalProject/GAN/y_tr.npy',y_tr)\n",
    "np.save('/scratch/ne2213/projects/DL/DL-FinalProject/GAN/y_val.npy',y_val)"
   ]
  },
  {
   "cell_type": "code",
   "execution_count": null,
   "id": "a1203294-3ce8-430b-96fd-9e12ccb974ec",
   "metadata": {},
   "outputs": [],
   "source": []
  }
 ],
 "metadata": {
  "kernelspec": {
   "display_name": "Python 3 (ipykernel)",
   "language": "python",
   "name": "python3"
  },
  "language_info": {
   "codemirror_mode": {
    "name": "ipython",
    "version": 3
   },
   "file_extension": ".py",
   "mimetype": "text/x-python",
   "name": "python",
   "nbconvert_exporter": "python",
   "pygments_lexer": "ipython3",
   "version": "3.8.18"
  }
 },
 "nbformat": 4,
 "nbformat_minor": 5
}
